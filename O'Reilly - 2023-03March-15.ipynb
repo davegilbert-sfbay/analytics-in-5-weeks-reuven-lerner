{
 "cells": [
  {
   "cell_type": "markdown",
   "id": "7448aa7f",
   "metadata": {},
   "source": [
    "# Agenda: Day 2\n",
    "\n",
    "1. Recap and Q&A\n",
    "2. Dtypes and `NaN`\n",
    "3. Data frames (2D data)\n",
    "    - Creating data frames\n",
    "    - Retrieving rows\n",
    "    - Retrieving columns\n",
    "    - Naming the index and the columns\n",
    "4. Adding and removing data\n",
    "5. Useful methods and attributes\n",
    "6. Boolean indexes\n",
    "7. Querying with `.loc`\n",
    "    - Row selectors\n",
    "    - Column selectors\n",
    "    - Assigning via `.loc`\n",
    "8. Reading CSV data"
   ]
  },
  {
   "cell_type": "markdown",
   "id": "cf2dc84b",
   "metadata": {},
   "source": [
    "# Recap\n",
    "\n",
    "- Pandas is for reading, writing, manipulating, cleaning, and analyzing data\n",
    "- Last time, we talked about the *Series*\n",
    "- A series contains a bunch of values, all of the same type\n",
    "- Retrieve from a series using `.loc` (by index) or `.iloc` (by position)\n",
    "- We can set the index either when we create the series or assign a new value\n",
    "- We can retrieve using a mask index via a boolean series\n",
    "- Most operations performed on two series happen via the index\n",
    "- If we have a series and a scalar value, the operation is \"broadcast\" to every element of the series"
   ]
  },
  {
   "cell_type": "code",
   "execution_count": 1,
   "id": "75cf3f65",
   "metadata": {},
   "outputs": [],
   "source": [
    "import numpy as np\n",
    "import pandas as pd\n",
    "from pandas import Series, DataFrame"
   ]
  },
  {
   "cell_type": "code",
   "execution_count": 2,
   "id": "a844d8e1",
   "metadata": {},
   "outputs": [],
   "source": [
    "s = Series([10, 20, 30, 40, 45, 50, 60, 70])"
   ]
  },
  {
   "cell_type": "code",
   "execution_count": 3,
   "id": "266b409d",
   "metadata": {},
   "outputs": [
    {
     "data": {
      "text/plain": [
       "0    10\n",
       "1    20\n",
       "2    30\n",
       "3    40\n",
       "4    45\n",
       "5    50\n",
       "6    60\n",
       "7    70\n",
       "dtype: int64"
      ]
     },
     "execution_count": 3,
     "metadata": {},
     "output_type": "execute_result"
    }
   ],
   "source": [
    "s"
   ]
  },
  {
   "cell_type": "code",
   "execution_count": 4,
   "id": "a4034fa9",
   "metadata": {},
   "outputs": [
    {
     "data": {
      "text/plain": [
       "45"
      ]
     },
     "execution_count": 4,
     "metadata": {},
     "output_type": "execute_result"
    }
   ],
   "source": [
    "s.loc[4]"
   ]
  },
  {
   "cell_type": "code",
   "execution_count": 5,
   "id": "7b4b97f1",
   "metadata": {},
   "outputs": [
    {
     "data": {
      "text/plain": [
       "4    45\n",
       "6    60\n",
       "dtype: int64"
      ]
     },
     "execution_count": 5,
     "metadata": {},
     "output_type": "execute_result"
    }
   ],
   "source": [
    "s.loc[[4, 6]]   # fancy indexing"
   ]
  },
  {
   "cell_type": "code",
   "execution_count": 6,
   "id": "8a64060e",
   "metadata": {},
   "outputs": [],
   "source": [
    "s = Series([10, 20, 30, 40, 45, 50, 60, 70],\n",
    "          index=list('abcdefgh'))"
   ]
  },
  {
   "cell_type": "code",
   "execution_count": 7,
   "id": "c348b65e",
   "metadata": {},
   "outputs": [
    {
     "data": {
      "text/plain": [
       "a    10\n",
       "b    20\n",
       "c    30\n",
       "d    40\n",
       "e    45\n",
       "f    50\n",
       "g    60\n",
       "h    70\n",
       "dtype: int64"
      ]
     },
     "execution_count": 7,
     "metadata": {},
     "output_type": "execute_result"
    }
   ],
   "source": [
    "s"
   ]
  },
  {
   "cell_type": "code",
   "execution_count": 8,
   "id": "22a31947",
   "metadata": {},
   "outputs": [
    {
     "data": {
      "text/plain": [
       "40"
      ]
     },
     "execution_count": 8,
     "metadata": {},
     "output_type": "execute_result"
    }
   ],
   "source": [
    "s.loc['d']"
   ]
  },
  {
   "cell_type": "code",
   "execution_count": 9,
   "id": "67434be0",
   "metadata": {},
   "outputs": [
    {
     "data": {
      "text/plain": [
       "d    40\n",
       "f    50\n",
       "dtype: int64"
      ]
     },
     "execution_count": 9,
     "metadata": {},
     "output_type": "execute_result"
    }
   ],
   "source": [
    "s.loc[['d', 'f']]"
   ]
  },
  {
   "cell_type": "code",
   "execution_count": 10,
   "id": "25ef52e3",
   "metadata": {},
   "outputs": [
    {
     "data": {
      "text/plain": [
       "45"
      ]
     },
     "execution_count": 10,
     "metadata": {},
     "output_type": "execute_result"
    }
   ],
   "source": [
    "# we can retrieve via the position using .iloc\n",
    "s.iloc[4]"
   ]
  },
  {
   "cell_type": "code",
   "execution_count": 11,
   "id": "0fa1f8c5",
   "metadata": {},
   "outputs": [
    {
     "data": {
      "text/plain": [
       "e    45\n",
       "g    60\n",
       "dtype: int64"
      ]
     },
     "execution_count": 11,
     "metadata": {},
     "output_type": "execute_result"
    }
   ],
   "source": [
    "s.iloc[[4, 6]]"
   ]
  },
  {
   "cell_type": "code",
   "execution_count": 12,
   "id": "9c93bdc5",
   "metadata": {},
   "outputs": [
    {
     "data": {
      "text/plain": [
       "a     20\n",
       "b     40\n",
       "c     60\n",
       "d     80\n",
       "e     90\n",
       "f    100\n",
       "g    120\n",
       "h    140\n",
       "dtype: int64"
      ]
     },
     "execution_count": 12,
     "metadata": {},
     "output_type": "execute_result"
    }
   ],
   "source": [
    "s + s    # two series, thus operations are performed by the index\n",
    "\n"
   ]
  },
  {
   "cell_type": "code",
   "execution_count": null,
   "id": "5d27da2c",
   "metadata": {},
   "outputs": [],
   "source": []
  }
 ],
 "metadata": {
  "kernelspec": {
   "display_name": "Python 3 (ipykernel)",
   "language": "python",
   "name": "python3"
  },
  "language_info": {
   "codemirror_mode": {
    "name": "ipython",
    "version": 3
   },
   "file_extension": ".py",
   "mimetype": "text/x-python",
   "name": "python",
   "nbconvert_exporter": "python",
   "pygments_lexer": "ipython3",
   "version": "3.11.2"
  }
 },
 "nbformat": 4,
 "nbformat_minor": 5
}
