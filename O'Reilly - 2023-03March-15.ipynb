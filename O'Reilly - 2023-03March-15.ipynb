{
 "cells": [
  {
   "cell_type": "markdown",
   "id": "8de426ee",
   "metadata": {},
   "source": [
    "# Agenda: Day 2\n",
    "\n",
    "1. Recap and Q&A\n",
    "2. Dtypes and `NaN`\n",
    "3. Data frames (2D data)\n",
    "    - Creating data frames\n",
    "    - Retrieving rows\n",
    "    - Retrieving columns\n",
    "    - Naming the index and the columns\n",
    "4. Adding and removing data\n",
    "5. Useful methods and attributes\n",
    "6. Boolean indexes\n",
    "7. Querying with `.loc`\n",
    "    - Row selectors\n",
    "    - Column selectors\n",
    "    - Assigning via `.loc`\n",
    "8. Reading CSV data"
   ]
  },
  {
   "cell_type": "markdown",
   "id": "325c8fe6",
   "metadata": {},
   "source": [
    "# Recap\n",
    "\n",
    "- Pandas is for reading, writing, manipulating, cleaning, and analyzing data\n",
    "- Last time, we talked about the *Series*\n",
    "- A series contains a bunch of values, all of the same type\n",
    "- Retrieve from a series using `.loc` (by index) or `.iloc` (by position)\n",
    "- We can set the index either when we create the series or assign a new value\n",
    "- We can retrieve using a mask index via a boolean series\n",
    "- Most operations performed on two series happen via the index\n",
    "- If we have a series and a scalar value, the operation is \"broadcast\" to every element of the series"
   ]
  },
  {
   "cell_type": "code",
   "execution_count": 1,
   "id": "c5a7454d",
   "metadata": {},
   "outputs": [],
   "source": [
    "import numpy as np\n",
    "import pandas as pd\n",
    "from pandas import Series, DataFrame"
   ]
  },
  {
   "cell_type": "code",
   "execution_count": 2,
   "id": "c1d97e85",
   "metadata": {},
   "outputs": [],
   "source": [
    "s = Series([10, 20, 30, 40, 45, 50, 60, 70])"
   ]
  },
  {
   "cell_type": "code",
   "execution_count": 3,
   "id": "fa8cb1b3",
   "metadata": {},
   "outputs": [
    {
     "data": {
      "text/plain": [
       "0    10\n",
       "1    20\n",
       "2    30\n",
       "3    40\n",
       "4    45\n",
       "5    50\n",
       "6    60\n",
       "7    70\n",
       "dtype: int64"
      ]
     },
     "execution_count": 3,
     "metadata": {},
     "output_type": "execute_result"
    }
   ],
   "source": [
    "s"
   ]
  },
  {
   "cell_type": "code",
   "execution_count": 4,
   "id": "d2eeaf3e",
   "metadata": {},
   "outputs": [
    {
     "data": {
      "text/plain": [
       "45"
      ]
     },
     "execution_count": 4,
     "metadata": {},
     "output_type": "execute_result"
    }
   ],
   "source": [
    "s.loc[4]"
   ]
  },
  {
   "cell_type": "code",
   "execution_count": 5,
   "id": "e02f029e",
   "metadata": {},
   "outputs": [
    {
     "data": {
      "text/plain": [
       "4    45\n",
       "6    60\n",
       "dtype: int64"
      ]
     },
     "execution_count": 5,
     "metadata": {},
     "output_type": "execute_result"
    }
   ],
   "source": [
    "s.loc[[4, 6]]   # fancy indexing"
   ]
  },
  {
   "cell_type": "code",
   "execution_count": 6,
   "id": "99f9b451",
   "metadata": {},
   "outputs": [],
   "source": [
    "s = Series([10, 20, 30, 40, 45, 50, 60, 70],\n",
    "          index=list('abcdefgh'))"
   ]
  },
  {
   "cell_type": "code",
   "execution_count": 7,
   "id": "028e157e",
   "metadata": {},
   "outputs": [
    {
     "data": {
      "text/plain": [
       "a    10\n",
       "b    20\n",
       "c    30\n",
       "d    40\n",
       "e    45\n",
       "f    50\n",
       "g    60\n",
       "h    70\n",
       "dtype: int64"
      ]
     },
     "execution_count": 7,
     "metadata": {},
     "output_type": "execute_result"
    }
   ],
   "source": [
    "s"
   ]
  },
  {
   "cell_type": "code",
   "execution_count": 8,
   "id": "5babab94",
   "metadata": {},
   "outputs": [
    {
     "data": {
      "text/plain": [
       "40"
      ]
     },
     "execution_count": 8,
     "metadata": {},
     "output_type": "execute_result"
    }
   ],
   "source": [
    "s.loc['d']"
   ]
  },
  {
   "cell_type": "code",
   "execution_count": 9,
   "id": "1dc86e9d",
   "metadata": {},
   "outputs": [
    {
     "data": {
      "text/plain": [
       "d    40\n",
       "f    50\n",
       "dtype: int64"
      ]
     },
     "execution_count": 9,
     "metadata": {},
     "output_type": "execute_result"
    }
   ],
   "source": [
    "s.loc[['d', 'f']]"
   ]
  },
  {
   "cell_type": "code",
   "execution_count": 10,
   "id": "f8816c5f",
   "metadata": {},
   "outputs": [
    {
     "data": {
      "text/plain": [
       "45"
      ]
     },
     "execution_count": 10,
     "metadata": {},
     "output_type": "execute_result"
    }
   ],
   "source": [
    "# we can retrieve via the position using .iloc\n",
    "s.iloc[4]"
   ]
  },
  {
   "cell_type": "code",
   "execution_count": 11,
   "id": "4a9e2214",
   "metadata": {},
   "outputs": [
    {
     "data": {
      "text/plain": [
       "e    45\n",
       "g    60\n",
       "dtype: int64"
      ]
     },
     "execution_count": 11,
     "metadata": {},
     "output_type": "execute_result"
    }
   ],
   "source": [
    "s.iloc[[4, 6]]"
   ]
  },
  {
   "cell_type": "code",
   "execution_count": 12,
   "id": "8da36767",
   "metadata": {},
   "outputs": [
    {
     "data": {
      "text/plain": [
       "a     20\n",
       "b     40\n",
       "c     60\n",
       "d     80\n",
       "e     90\n",
       "f    100\n",
       "g    120\n",
       "h    140\n",
       "dtype: int64"
      ]
     },
     "execution_count": 12,
     "metadata": {},
     "output_type": "execute_result"
    }
   ],
   "source": [
    "s + s    # two series, thus operations are performed by the index\n",
    "\n"
   ]
  },
  {
   "cell_type": "code",
   "execution_count": 13,
   "id": "34458617",
   "metadata": {},
   "outputs": [
    {
     "data": {
      "text/plain": [
       "a    14\n",
       "b    24\n",
       "c    34\n",
       "d    44\n",
       "e    49\n",
       "f    54\n",
       "g    64\n",
       "h    74\n",
       "dtype: int64"
      ]
     },
     "execution_count": 13,
     "metadata": {},
     "output_type": "execute_result"
    }
   ],
   "source": [
    "# broadcasting\n",
    "\n",
    "s + 4"
   ]
  },
  {
   "cell_type": "code",
   "execution_count": 14,
   "id": "5c959948",
   "metadata": {},
   "outputs": [
    {
     "data": {
      "text/plain": [
       "a     True\n",
       "b     True\n",
       "c     True\n",
       "d     True\n",
       "e     True\n",
       "f    False\n",
       "g    False\n",
       "h    False\n",
       "dtype: bool"
      ]
     },
     "execution_count": 14,
     "metadata": {},
     "output_type": "execute_result"
    }
   ],
   "source": [
    "# we can run comparison operations via broadcast, and get a True/False value for each index\n",
    "\n",
    "s < 50"
   ]
  },
  {
   "cell_type": "code",
   "execution_count": 15,
   "id": "a1ce6170",
   "metadata": {},
   "outputs": [
    {
     "data": {
      "text/plain": [
       "a    10\n",
       "b    20\n",
       "c    30\n",
       "d    40\n",
       "e    45\n",
       "dtype: int64"
      ]
     },
     "execution_count": 15,
     "metadata": {},
     "output_type": "execute_result"
    }
   ],
   "source": [
    "# if we have a boolean series, we can apply it with .loc\n",
    "# this returns only those elements of the series for which our booleans are True\n",
    "\n",
    "s.loc[s<50]"
   ]
  },
  {
   "cell_type": "code",
   "execution_count": 16,
   "id": "8aba88d5",
   "metadata": {},
   "outputs": [
    {
     "data": {
      "text/plain": [
       "True     5\n",
       "False    3\n",
       "dtype: int64"
      ]
     },
     "execution_count": 16,
     "metadata": {},
     "output_type": "execute_result"
    }
   ],
   "source": [
    "(s<50).value_counts()   "
   ]
  },
  {
   "cell_type": "code",
   "execution_count": 17,
   "id": "88a6d0db",
   "metadata": {},
   "outputs": [
    {
     "data": {
      "text/plain": [
       "count     8.000000\n",
       "mean     40.625000\n",
       "std      20.077973\n",
       "min      10.000000\n",
       "25%      27.500000\n",
       "50%      42.500000\n",
       "75%      52.500000\n",
       "max      70.000000\n",
       "dtype: float64"
      ]
     },
     "execution_count": 17,
     "metadata": {},
     "output_type": "execute_result"
    }
   ],
   "source": [
    "s.describe()"
   ]
  },
  {
   "cell_type": "markdown",
   "id": "d4dd4ad5",
   "metadata": {},
   "source": [
    "# Dtypes\n",
    "\n",
    "If you're a Python programmer, then you might have wondered what the difference is between a \"list\" and an \"array.\"  In the case of an array, (a) the length is known when it's created and (b) all of the elements are of the same type.\n",
    "\n",
    "Python lists don't have either of these restrictions! \n",
    "\n",
    "Pandas series can be changed in length, so they aren't arrays, either. But they are more similar to arrays, in that all of the elements must be of the same type."
   ]
  },
  {
   "cell_type": "code",
   "execution_count": 18,
   "id": "f31c14c6",
   "metadata": {},
   "outputs": [
    {
     "data": {
      "text/plain": [
       "0    10\n",
       "1    20\n",
       "2    30\n",
       "3    40\n",
       "4    50\n",
       "dtype: int64"
      ]
     },
     "execution_count": 18,
     "metadata": {},
     "output_type": "execute_result"
    }
   ],
   "source": [
    "s = Series([10, 20, 30, 40, 50])\n",
    "s"
   ]
  },
  {
   "cell_type": "markdown",
   "id": "0618123a",
   "metadata": {},
   "source": [
    "# `dtype`\n",
    "\n",
    "Every series has a `dtype`, describing what kind of data is in the series. The `dtype` is typically *not* a Python type, but is a special type based on the NumPy library, which is based in the C language.\n",
    "\n",
    "In Python, we have integers. But in C, we have integers of different sizes.  The `dtype` allows us to specify how mnay bits we want to give to each integer. If we don't have integer data, then we have to specify that, too."
   ]
  },
  {
   "cell_type": "code",
   "execution_count": 19,
   "id": "181eaaa9",
   "metadata": {},
   "outputs": [],
   "source": [
    "# 64 bits == 8 bytes"
   ]
  },
  {
   "cell_type": "code",
   "execution_count": 20,
   "id": "2ee74194",
   "metadata": {},
   "outputs": [
    {
     "data": {
      "text/plain": [
       "0    10.0\n",
       "1    20.0\n",
       "2    30.5\n",
       "3    40.0\n",
       "4    50.0\n",
       "dtype: float64"
      ]
     },
     "execution_count": 20,
     "metadata": {},
     "output_type": "execute_result"
    }
   ],
   "source": [
    "s = Series([10, 20, 30.5, 40, 50])   # notice, one number is *not* an integer\n",
    "s"
   ]
  },
  {
   "cell_type": "markdown",
   "id": "cb1788b6",
   "metadata": {},
   "source": [
    "# What `dtypes` exist? How can I set it?\n",
    "\n",
    "Dtypes are all defined in `numpy`, which you can import as \n",
    "\n",
    "    import numpy as np\n",
    "    \n",
    "Then you can use the following types:\n",
    "\n",
    "- Integers (ints)\n",
    "    - `np.int8`\n",
    "    - `np.int16`\n",
    "    - `np.int32`\n",
    "    - `np.int64`  (default if you give integer data)\n",
    "- Floats \n",
    "    - `np.float16`\n",
    "    - `np.float32`\n",
    "    - `np.float64` (default if you give float data)\n",
    "    - `np.float128`\n",
    "- Unsigned ints\n",
    "    - `np.uint8`\n",
    "    - `np.uint16`\n",
    "    - `np.uint32`\n",
    "    - `np.uint64`\n",
    "- `object` (Python objects -- default if you have strings)    "
   ]
  },
  {
   "cell_type": "code",
   "execution_count": 21,
   "id": "c0604704",
   "metadata": {},
   "outputs": [
    {
     "data": {
      "text/plain": [
       "dtype('int64')"
      ]
     },
     "execution_count": 21,
     "metadata": {},
     "output_type": "execute_result"
    }
   ],
   "source": [
    "# when I create a new series, I can tell Pandas what dtypes to use\n",
    "\n",
    "s = Series([10, 20, 30, 40, 50])\n",
    "s.dtype  # we can get the dtype with this attribute"
   ]
  },
  {
   "cell_type": "code",
   "execution_count": 22,
   "id": "61707964",
   "metadata": {},
   "outputs": [
    {
     "data": {
      "text/plain": [
       "dtype('float128')"
      ]
     },
     "execution_count": 22,
     "metadata": {},
     "output_type": "execute_result"
    }
   ],
   "source": [
    "s = Series([10, 20, 30, 40, 50], \n",
    "          dtype=np.float128)\n",
    "\n",
    "s.dtype  # we can get the dtype with this attribute"
   ]
  },
  {
   "cell_type": "code",
   "execution_count": 23,
   "id": "87d88efa",
   "metadata": {},
   "outputs": [
    {
     "data": {
      "text/plain": [
       "0    10.0\n",
       "1    20.0\n",
       "2    30.0\n",
       "3    40.0\n",
       "4    50.0\n",
       "dtype: float128"
      ]
     },
     "execution_count": 23,
     "metadata": {},
     "output_type": "execute_result"
    }
   ],
   "source": [
    "s"
   ]
  },
  {
   "cell_type": "code",
   "execution_count": 24,
   "id": "4b0435a2",
   "metadata": {},
   "outputs": [],
   "source": [
    "s.loc[2] = 345   # set a value in our series"
   ]
  },
  {
   "cell_type": "code",
   "execution_count": 25,
   "id": "b874ecf6",
   "metadata": {},
   "outputs": [
    {
     "data": {
      "text/plain": [
       "0     10.0\n",
       "1     20.0\n",
       "2    345.0\n",
       "3     40.0\n",
       "4     50.0\n",
       "dtype: float128"
      ]
     },
     "execution_count": 25,
     "metadata": {},
     "output_type": "execute_result"
    }
   ],
   "source": [
    "s"
   ]
  },
  {
   "cell_type": "code",
   "execution_count": null,
   "id": "a5a267fc",
   "metadata": {},
   "outputs": [],
   "source": [
    "# what happens if we assign a value that doesn't match the dtype?\n",
    "\n",
    "s = Series([10, 20, 30, 40, 50])"
   ]
  }
 ],
 "metadata": {
  "kernelspec": {
   "display_name": "Python 3 (ipykernel)",
   "language": "python",
   "name": "python3"
  },
  "language_info": {
   "codemirror_mode": {
    "name": "ipython",
    "version": 3
   },
   "file_extension": ".py",
   "mimetype": "text/x-python",
   "name": "python",
   "nbconvert_exporter": "python",
   "pygments_lexer": "ipython3",
   "version": "3.11.2"
  }
 },
 "nbformat": 4,
 "nbformat_minor": 5
}
