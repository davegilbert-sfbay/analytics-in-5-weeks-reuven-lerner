{
 "cells": [
  {
   "cell_type": "markdown",
   "id": "858685ce",
   "metadata": {},
   "source": [
    "# Agenda: Day 2\n",
    "\n",
    "1. Recap and Q&A\n",
    "2. Dtypes and `NaN`\n",
    "3. Data frames (2D data)\n",
    "    - Creating data frames\n",
    "    - Retrieving rows\n",
    "    - Retrieving columns\n",
    "    - Naming the index and the columns\n",
    "4. Adding and removing data\n",
    "5. Useful methods and attributes\n",
    "6. Boolean indexes\n",
    "7. Querying with `.loc`\n",
    "    - Row selectors\n",
    "    - Column selectors\n",
    "    - Assigning via `.loc`\n",
    "8. Reading CSV data"
   ]
  },
  {
   "cell_type": "markdown",
   "id": "f10dacc8",
   "metadata": {},
   "source": [
    "# Recap\n",
    "\n",
    "- Pandas is for reading, writing, manipulating, cleaning, and analyzing data\n",
    "- Last time, we talked about the *Series*\n",
    "- A series contains a bunch of values, all of the same type\n",
    "- Retrieve from a series using `.loc` (by index) or `.iloc` (by position)\n",
    "- We can set the index either when we create the series or assign a new value\n",
    "- We can retrieve using a mask index via a boolean series\n",
    "- Most operations performed on two series happen via the index\n",
    "- If we have a series and a scalar value, the operation is \"broadcast\" to every element of the series"
   ]
  },
  {
   "cell_type": "code",
   "execution_count": 1,
   "id": "2fc44b95",
   "metadata": {},
   "outputs": [],
   "source": [
    "import numpy as np\n",
    "import pandas as pd\n",
    "from pandas import Series, DataFrame"
   ]
  },
  {
   "cell_type": "code",
   "execution_count": 2,
   "id": "d8142456",
   "metadata": {},
   "outputs": [],
   "source": [
    "s = Series([10, 20, 30, 40, 45, 50, 60, 70])"
   ]
  },
  {
   "cell_type": "code",
   "execution_count": 3,
   "id": "108e1ad8",
   "metadata": {},
   "outputs": [
    {
     "data": {
      "text/plain": [
       "0    10\n",
       "1    20\n",
       "2    30\n",
       "3    40\n",
       "4    45\n",
       "5    50\n",
       "6    60\n",
       "7    70\n",
       "dtype: int64"
      ]
     },
     "execution_count": 3,
     "metadata": {},
     "output_type": "execute_result"
    }
   ],
   "source": [
    "s"
   ]
  },
  {
   "cell_type": "code",
   "execution_count": 4,
   "id": "0c9b5ca4",
   "metadata": {},
   "outputs": [
    {
     "data": {
      "text/plain": [
       "45"
      ]
     },
     "execution_count": 4,
     "metadata": {},
     "output_type": "execute_result"
    }
   ],
   "source": [
    "s.loc[4]"
   ]
  },
  {
   "cell_type": "code",
   "execution_count": 5,
   "id": "ad8971bc",
   "metadata": {},
   "outputs": [
    {
     "data": {
      "text/plain": [
       "4    45\n",
       "6    60\n",
       "dtype: int64"
      ]
     },
     "execution_count": 5,
     "metadata": {},
     "output_type": "execute_result"
    }
   ],
   "source": [
    "s.loc[[4, 6]]   # fancy indexing"
   ]
  },
  {
   "cell_type": "code",
   "execution_count": 6,
   "id": "aef369cc",
   "metadata": {},
   "outputs": [],
   "source": [
    "s = Series([10, 20, 30, 40, 45, 50, 60, 70],\n",
    "          index=list('abcdefgh'))"
   ]
  },
  {
   "cell_type": "code",
   "execution_count": 7,
   "id": "2736e7b1",
   "metadata": {},
   "outputs": [
    {
     "data": {
      "text/plain": [
       "a    10\n",
       "b    20\n",
       "c    30\n",
       "d    40\n",
       "e    45\n",
       "f    50\n",
       "g    60\n",
       "h    70\n",
       "dtype: int64"
      ]
     },
     "execution_count": 7,
     "metadata": {},
     "output_type": "execute_result"
    }
   ],
   "source": [
    "s"
   ]
  },
  {
   "cell_type": "code",
   "execution_count": 8,
   "id": "270619c7",
   "metadata": {},
   "outputs": [
    {
     "data": {
      "text/plain": [
       "40"
      ]
     },
     "execution_count": 8,
     "metadata": {},
     "output_type": "execute_result"
    }
   ],
   "source": [
    "s.loc['d']"
   ]
  },
  {
   "cell_type": "code",
   "execution_count": 9,
   "id": "9ea8ffac",
   "metadata": {},
   "outputs": [
    {
     "data": {
      "text/plain": [
       "d    40\n",
       "f    50\n",
       "dtype: int64"
      ]
     },
     "execution_count": 9,
     "metadata": {},
     "output_type": "execute_result"
    }
   ],
   "source": [
    "s.loc[['d', 'f']]"
   ]
  },
  {
   "cell_type": "code",
   "execution_count": 10,
   "id": "1e12ea89",
   "metadata": {},
   "outputs": [
    {
     "data": {
      "text/plain": [
       "45"
      ]
     },
     "execution_count": 10,
     "metadata": {},
     "output_type": "execute_result"
    }
   ],
   "source": [
    "# we can retrieve via the position using .iloc\n",
    "s.iloc[4]"
   ]
  },
  {
   "cell_type": "code",
   "execution_count": 11,
   "id": "7f8666ad",
   "metadata": {},
   "outputs": [
    {
     "data": {
      "text/plain": [
       "e    45\n",
       "g    60\n",
       "dtype: int64"
      ]
     },
     "execution_count": 11,
     "metadata": {},
     "output_type": "execute_result"
    }
   ],
   "source": [
    "s.iloc[[4, 6]]"
   ]
  },
  {
   "cell_type": "code",
   "execution_count": 12,
   "id": "b5c0f6f4",
   "metadata": {},
   "outputs": [
    {
     "data": {
      "text/plain": [
       "a     20\n",
       "b     40\n",
       "c     60\n",
       "d     80\n",
       "e     90\n",
       "f    100\n",
       "g    120\n",
       "h    140\n",
       "dtype: int64"
      ]
     },
     "execution_count": 12,
     "metadata": {},
     "output_type": "execute_result"
    }
   ],
   "source": [
    "s + s    # two series, thus operations are performed by the index\n",
    "\n"
   ]
  },
  {
   "cell_type": "code",
   "execution_count": 13,
   "id": "de44c562",
   "metadata": {},
   "outputs": [
    {
     "data": {
      "text/plain": [
       "a    14\n",
       "b    24\n",
       "c    34\n",
       "d    44\n",
       "e    49\n",
       "f    54\n",
       "g    64\n",
       "h    74\n",
       "dtype: int64"
      ]
     },
     "execution_count": 13,
     "metadata": {},
     "output_type": "execute_result"
    }
   ],
   "source": [
    "# broadcasting\n",
    "\n",
    "s + 4"
   ]
  },
  {
   "cell_type": "code",
   "execution_count": 14,
   "id": "ed8bc190",
   "metadata": {},
   "outputs": [
    {
     "data": {
      "text/plain": [
       "a     True\n",
       "b     True\n",
       "c     True\n",
       "d     True\n",
       "e     True\n",
       "f    False\n",
       "g    False\n",
       "h    False\n",
       "dtype: bool"
      ]
     },
     "execution_count": 14,
     "metadata": {},
     "output_type": "execute_result"
    }
   ],
   "source": [
    "# we can run comparison operations via broadcast, and get a True/False value for each index\n",
    "\n",
    "s < 50"
   ]
  },
  {
   "cell_type": "code",
   "execution_count": 15,
   "id": "c2c424d9",
   "metadata": {},
   "outputs": [
    {
     "data": {
      "text/plain": [
       "a    10\n",
       "b    20\n",
       "c    30\n",
       "d    40\n",
       "e    45\n",
       "dtype: int64"
      ]
     },
     "execution_count": 15,
     "metadata": {},
     "output_type": "execute_result"
    }
   ],
   "source": [
    "# if we have a boolean series, we can apply it with .loc\n",
    "# this returns only those elements of the series for which our booleans are True\n",
    "\n",
    "s.loc[s<50]"
   ]
  },
  {
   "cell_type": "code",
   "execution_count": 16,
   "id": "497606bd",
   "metadata": {},
   "outputs": [
    {
     "data": {
      "text/plain": [
       "True     5\n",
       "False    3\n",
       "dtype: int64"
      ]
     },
     "execution_count": 16,
     "metadata": {},
     "output_type": "execute_result"
    }
   ],
   "source": [
    "(s<50).value_counts()   "
   ]
  },
  {
   "cell_type": "code",
   "execution_count": 17,
   "id": "69246d2f",
   "metadata": {},
   "outputs": [
    {
     "data": {
      "text/plain": [
       "count     8.000000\n",
       "mean     40.625000\n",
       "std      20.077973\n",
       "min      10.000000\n",
       "25%      27.500000\n",
       "50%      42.500000\n",
       "75%      52.500000\n",
       "max      70.000000\n",
       "dtype: float64"
      ]
     },
     "execution_count": 17,
     "metadata": {},
     "output_type": "execute_result"
    }
   ],
   "source": [
    "s.describe()"
   ]
  },
  {
   "cell_type": "markdown",
   "id": "eff29bdf",
   "metadata": {},
   "source": [
    "# Dtypes\n",
    "\n",
    "If you're a Python programmer, then you might have wondered what the difference is between a \"list\" and an \"array.\"  In the case of an array, (a) the length is known when it's created and (b) all of the elements are of the same type.\n",
    "\n",
    "Python lists don't have either of these restrictions! \n",
    "\n",
    "Pandas series can be changed in length, so they aren't arrays, either. But they are more similar to arrays, in that all of the elements must be of the same type."
   ]
  },
  {
   "cell_type": "code",
   "execution_count": 18,
   "id": "050b63d4",
   "metadata": {},
   "outputs": [
    {
     "data": {
      "text/plain": [
       "0    10\n",
       "1    20\n",
       "2    30\n",
       "3    40\n",
       "4    50\n",
       "dtype: int64"
      ]
     },
     "execution_count": 18,
     "metadata": {},
     "output_type": "execute_result"
    }
   ],
   "source": [
    "s = Series([10, 20, 30, 40, 50])\n",
    "s"
   ]
  },
  {
   "cell_type": "markdown",
   "id": "0365e93d",
   "metadata": {},
   "source": [
    "# `dtype`\n",
    "\n",
    "Every series has a `dtype`, describing what kind of data is in the series. The `dtype` is typically *not* a Python type, but is a special type based on the NumPy library, which is based in the C language.\n",
    "\n",
    "In Python, we have integers. But in C, we have integers of different sizes.  The `dtype` allows us to specify how mnay bits we want to give to each integer. If we don't have integer data, then we have to specify that, too."
   ]
  },
  {
   "cell_type": "code",
   "execution_count": 19,
   "id": "e603407a",
   "metadata": {},
   "outputs": [],
   "source": [
    "# 64 bits == 8 bytes"
   ]
  },
  {
   "cell_type": "code",
   "execution_count": 20,
   "id": "0fe76905",
   "metadata": {},
   "outputs": [
    {
     "data": {
      "text/plain": [
       "0    10.0\n",
       "1    20.0\n",
       "2    30.5\n",
       "3    40.0\n",
       "4    50.0\n",
       "dtype: float64"
      ]
     },
     "execution_count": 20,
     "metadata": {},
     "output_type": "execute_result"
    }
   ],
   "source": [
    "s = Series([10, 20, 30.5, 40, 50])   # notice, one number is *not* an integer\n",
    "s"
   ]
  },
  {
   "cell_type": "markdown",
   "id": "9284575f",
   "metadata": {},
   "source": [
    "# What `dtypes` exist? How can I set it?\n",
    "\n",
    "Dtypes are all defined in `numpy`, which you can import as \n",
    "\n",
    "    import numpy as np\n",
    "    \n",
    "Then you can use the following types:\n",
    "\n",
    "- Integers (ints)\n",
    "    - `np.int8`\n",
    "    - `np.int16`\n",
    "    - `np.int32`\n",
    "    - `np.int64`  (default if you give integer data)\n",
    "- Floats \n",
    "    - `np.float16`\n",
    "    - `np.float32`\n",
    "    - `np.float64` (default if you give float data)\n",
    "    - `np.float128`\n",
    "- Unsigned ints\n",
    "    - `np.uint8`\n",
    "    - `np.uint16`\n",
    "    - `np.uint32`\n",
    "    - `np.uint64`\n",
    "- `object` (Python objects -- default if you have strings)    "
   ]
  },
  {
   "cell_type": "code",
   "execution_count": 21,
   "id": "355534c8",
   "metadata": {},
   "outputs": [
    {
     "data": {
      "text/plain": [
       "dtype('int64')"
      ]
     },
     "execution_count": 21,
     "metadata": {},
     "output_type": "execute_result"
    }
   ],
   "source": [
    "# when I create a new series, I can tell Pandas what dtypes to use\n",
    "\n",
    "s = Series([10, 20, 30, 40, 50])\n",
    "s.dtype  # we can get the dtype with this attribute"
   ]
  },
  {
   "cell_type": "code",
   "execution_count": 22,
   "id": "29dfb724",
   "metadata": {},
   "outputs": [
    {
     "data": {
      "text/plain": [
       "dtype('float128')"
      ]
     },
     "execution_count": 22,
     "metadata": {},
     "output_type": "execute_result"
    }
   ],
   "source": [
    "s = Series([10, 20, 30, 40, 50], \n",
    "          dtype=np.float128)\n",
    "\n",
    "s.dtype  # we can get the dtype with this attribute"
   ]
  },
  {
   "cell_type": "code",
   "execution_count": 23,
   "id": "3d5e1bf9",
   "metadata": {},
   "outputs": [
    {
     "data": {
      "text/plain": [
       "0    10.0\n",
       "1    20.0\n",
       "2    30.0\n",
       "3    40.0\n",
       "4    50.0\n",
       "dtype: float128"
      ]
     },
     "execution_count": 23,
     "metadata": {},
     "output_type": "execute_result"
    }
   ],
   "source": [
    "s"
   ]
  },
  {
   "cell_type": "code",
   "execution_count": 24,
   "id": "ab1ee6e8",
   "metadata": {},
   "outputs": [],
   "source": [
    "s.loc[2] = 345   # set a value in our series"
   ]
  },
  {
   "cell_type": "code",
   "execution_count": 25,
   "id": "af9cd4ff",
   "metadata": {},
   "outputs": [
    {
     "data": {
      "text/plain": [
       "0     10.0\n",
       "1     20.0\n",
       "2    345.0\n",
       "3     40.0\n",
       "4     50.0\n",
       "dtype: float128"
      ]
     },
     "execution_count": 25,
     "metadata": {},
     "output_type": "execute_result"
    }
   ],
   "source": [
    "s"
   ]
  },
  {
   "cell_type": "code",
   "execution_count": 26,
   "id": "a0fe8b7d",
   "metadata": {},
   "outputs": [
    {
     "data": {
      "text/plain": [
       "0    10\n",
       "1    20\n",
       "2    30\n",
       "3    40\n",
       "4    50\n",
       "dtype: int64"
      ]
     },
     "execution_count": 26,
     "metadata": {},
     "output_type": "execute_result"
    }
   ],
   "source": [
    "# what happens if we assign a value that doesn't match the dtype?\n",
    "\n",
    "s = Series([10, 20, 30, 40, 50])   # dtype will be the default, np.int64\n",
    "s"
   ]
  },
  {
   "cell_type": "code",
   "execution_count": 27,
   "id": "708e170e",
   "metadata": {},
   "outputs": [],
   "source": [
    "s.loc[2] = 12.34"
   ]
  },
  {
   "cell_type": "code",
   "execution_count": 28,
   "id": "4a16ea9d",
   "metadata": {},
   "outputs": [
    {
     "data": {
      "text/plain": [
       "0    10.00\n",
       "1    20.00\n",
       "2    12.34\n",
       "3    40.00\n",
       "4    50.00\n",
       "dtype: float64"
      ]
     },
     "execution_count": 28,
     "metadata": {},
     "output_type": "execute_result"
    }
   ],
   "source": [
    "s"
   ]
  },
  {
   "cell_type": "code",
   "execution_count": 29,
   "id": "bace99cf",
   "metadata": {},
   "outputs": [
    {
     "ename": "AttributeError",
     "evalue": "property 'dtype' of 'Series' object has no setter",
     "output_type": "error",
     "traceback": [
      "\u001b[0;31m---------------------------------------------------------------------------\u001b[0m",
      "\u001b[0;31mAttributeError\u001b[0m                            Traceback (most recent call last)",
      "File \u001b[0;32m/usr/local/lib/python3.11/site-packages/pandas/core/generic.py:5933\u001b[0m, in \u001b[0;36mNDFrame.__setattr__\u001b[0;34m(self, name, value)\u001b[0m\n\u001b[1;32m   5932\u001b[0m     \u001b[38;5;28;01melse\u001b[39;00m:\n\u001b[0;32m-> 5933\u001b[0m         \u001b[38;5;28;43mobject\u001b[39;49m\u001b[38;5;241;43m.\u001b[39;49m\u001b[38;5;21;43m__setattr__\u001b[39;49m\u001b[43m(\u001b[49m\u001b[38;5;28;43mself\u001b[39;49m\u001b[43m,\u001b[49m\u001b[43m \u001b[49m\u001b[43mname\u001b[49m\u001b[43m,\u001b[49m\u001b[43m \u001b[49m\u001b[43mvalue\u001b[49m\u001b[43m)\u001b[49m\n\u001b[1;32m   5934\u001b[0m \u001b[38;5;28;01mexcept\u001b[39;00m (\u001b[38;5;167;01mAttributeError\u001b[39;00m, \u001b[38;5;167;01mTypeError\u001b[39;00m):\n",
      "\u001b[0;31mAttributeError\u001b[0m: property 'dtype' of 'Series' object has no setter",
      "\nDuring handling of the above exception, another exception occurred:\n",
      "\u001b[0;31mAttributeError\u001b[0m                            Traceback (most recent call last)",
      "Cell \u001b[0;32mIn [29], line 4\u001b[0m\n\u001b[1;32m      1\u001b[0m \u001b[38;5;66;03m# how can I change a series from one dtype to another?\u001b[39;00m\n\u001b[1;32m      2\u001b[0m \u001b[38;5;66;03m# you *cannot* assign to the dtype attribute\u001b[39;00m\n\u001b[0;32m----> 4\u001b[0m \u001b[43ms\u001b[49m\u001b[38;5;241;43m.\u001b[39;49m\u001b[43mdtype\u001b[49m \u001b[38;5;241m=\u001b[39m np\u001b[38;5;241m.\u001b[39mint64\n",
      "File \u001b[0;32m/usr/local/lib/python3.11/site-packages/pandas/core/generic.py:5943\u001b[0m, in \u001b[0;36mNDFrame.__setattr__\u001b[0;34m(self, name, value)\u001b[0m\n\u001b[1;32m   5935\u001b[0m \u001b[38;5;28;01mif\u001b[39;00m \u001b[38;5;28misinstance\u001b[39m(\u001b[38;5;28mself\u001b[39m, ABCDataFrame) \u001b[38;5;129;01mand\u001b[39;00m (is_list_like(value)):\n\u001b[1;32m   5936\u001b[0m     warnings\u001b[38;5;241m.\u001b[39mwarn(\n\u001b[1;32m   5937\u001b[0m         \u001b[38;5;124m\"\u001b[39m\u001b[38;5;124mPandas doesn\u001b[39m\u001b[38;5;124m'\u001b[39m\u001b[38;5;124mt allow columns to be \u001b[39m\u001b[38;5;124m\"\u001b[39m\n\u001b[1;32m   5938\u001b[0m         \u001b[38;5;124m\"\u001b[39m\u001b[38;5;124mcreated via a new attribute name - see \u001b[39m\u001b[38;5;124m\"\u001b[39m\n\u001b[0;32m   (...)\u001b[0m\n\u001b[1;32m   5941\u001b[0m         stacklevel\u001b[38;5;241m=\u001b[39mfind_stack_level(),\n\u001b[1;32m   5942\u001b[0m     )\n\u001b[0;32m-> 5943\u001b[0m \u001b[38;5;28;43mobject\u001b[39;49m\u001b[38;5;241;43m.\u001b[39;49m\u001b[38;5;21;43m__setattr__\u001b[39;49m\u001b[43m(\u001b[49m\u001b[38;5;28;43mself\u001b[39;49m\u001b[43m,\u001b[49m\u001b[43m \u001b[49m\u001b[43mname\u001b[49m\u001b[43m,\u001b[49m\u001b[43m \u001b[49m\u001b[43mvalue\u001b[49m\u001b[43m)\u001b[49m\n",
      "\u001b[0;31mAttributeError\u001b[0m: property 'dtype' of 'Series' object has no setter"
     ]
    }
   ],
   "source": [
    "# how can I change a series from one dtype to another?\n",
    "# you *cannot* assign to the dtype attribute\n",
    "\n",
    "s.dtype = np.int64"
   ]
  },
  {
   "cell_type": "code",
   "execution_count": 30,
   "id": "21026162",
   "metadata": {},
   "outputs": [
    {
     "data": {
      "text/plain": [
       "0    10\n",
       "1    20\n",
       "2    12\n",
       "3    40\n",
       "4    50\n",
       "dtype: int64"
      ]
     },
     "execution_count": 30,
     "metadata": {},
     "output_type": "execute_result"
    }
   ],
   "source": [
    "# you can use the .astype method to get a new series back,\n",
    "# based on your current series, with a new type\n",
    "\n",
    "s.astype(np.int64)  # anything after a decimal point was lost"
   ]
  },
  {
   "cell_type": "code",
   "execution_count": 31,
   "id": "b516da52",
   "metadata": {},
   "outputs": [],
   "source": [
    "# if I want to \"convert\" a series from float to int,\n",
    "# run .astype, and assign the result back to the original series\n",
    "\n",
    "s = s.astype(np.int64)"
   ]
  },
  {
   "cell_type": "code",
   "execution_count": 32,
   "id": "bec569ea",
   "metadata": {},
   "outputs": [
    {
     "data": {
      "text/plain": [
       "0    10\n",
       "1    20\n",
       "2    12\n",
       "3    40\n",
       "4    50\n",
       "dtype: int64"
      ]
     },
     "execution_count": 32,
     "metadata": {},
     "output_type": "execute_result"
    }
   ],
   "source": [
    "s"
   ]
  },
  {
   "cell_type": "code",
   "execution_count": 33,
   "id": "25e1d7a6",
   "metadata": {},
   "outputs": [
    {
     "data": {
      "text/plain": [
       "0    10\n",
       "1    20\n",
       "2    30\n",
       "3    40\n",
       "4    50\n",
       "dtype: object"
      ]
     },
     "execution_count": 33,
     "metadata": {},
     "output_type": "execute_result"
    }
   ],
   "source": [
    "s = Series('10 20 30 40 50'.split())\n",
    "s"
   ]
  },
  {
   "cell_type": "code",
   "execution_count": 34,
   "id": "2d0afb4f",
   "metadata": {},
   "outputs": [
    {
     "data": {
      "text/plain": [
       "0    1010\n",
       "1    2020\n",
       "2    3030\n",
       "3    4040\n",
       "4    5050\n",
       "dtype: object"
      ]
     },
     "execution_count": 34,
     "metadata": {},
     "output_type": "execute_result"
    }
   ],
   "source": [
    "s + s   # what happens when I add this series to itself?"
   ]
  },
  {
   "cell_type": "code",
   "execution_count": 35,
   "id": "2bf4883d",
   "metadata": {},
   "outputs": [
    {
     "data": {
      "text/plain": [
       "0    10\n",
       "1    20\n",
       "2    30\n",
       "3    40\n",
       "4    50\n",
       "dtype: int64"
      ]
     },
     "execution_count": 35,
     "metadata": {},
     "output_type": "execute_result"
    }
   ],
   "source": [
    "# if I want to turn this series into a bunch of integers, I can use astype\n",
    "\n",
    "# here, I replaced the original (string/object) version of s with \n",
    "# an integer version, assigning it back to the same variable\n",
    "\n",
    "s = s.astype(np.int64)\n",
    "s"
   ]
  },
  {
   "cell_type": "code",
   "execution_count": 36,
   "id": "14459917",
   "metadata": {},
   "outputs": [
    {
     "data": {
      "text/plain": [
       "0     20\n",
       "1     40\n",
       "2     60\n",
       "3     80\n",
       "4    100\n",
       "dtype: int64"
      ]
     },
     "execution_count": 36,
     "metadata": {},
     "output_type": "execute_result"
    }
   ],
   "source": [
    "s + s"
   ]
  },
  {
   "cell_type": "code",
   "execution_count": 37,
   "id": "4637e36c",
   "metadata": {},
   "outputs": [
    {
     "data": {
      "text/plain": [
       "10"
      ]
     },
     "execution_count": 37,
     "metadata": {},
     "output_type": "execute_result"
    }
   ],
   "source": [
    "x = 5\n",
    "\n",
    "x + x"
   ]
  },
  {
   "cell_type": "code",
   "execution_count": 38,
   "id": "dbfe5700",
   "metadata": {},
   "outputs": [
    {
     "data": {
      "text/plain": [
       "0    10\n",
       "1    20\n",
       "2    30\n",
       "3    40\n",
       "4    50\n",
       "dtype: int64"
      ]
     },
     "execution_count": 38,
     "metadata": {},
     "output_type": "execute_result"
    }
   ],
   "source": [
    "s = Series([10, 20, 30, 40, 50])\n",
    "s"
   ]
  },
  {
   "cell_type": "markdown",
   "id": "18e766af",
   "metadata": {},
   "source": [
    "# How much memory does this series take up?\n",
    "\n",
    "5 elements * 8 bytes = 40 bytes"
   ]
  },
  {
   "cell_type": "code",
   "execution_count": 40,
   "id": "0a2392b1",
   "metadata": {},
   "outputs": [
    {
     "data": {
      "text/plain": [
       "172"
      ]
     },
     "execution_count": 40,
     "metadata": {},
     "output_type": "execute_result"
    }
   ],
   "source": [
    "s.memory_usage()  # there is some overhead for the series object"
   ]
  },
  {
   "cell_type": "markdown",
   "id": "a317aaac",
   "metadata": {},
   "source": [
    "Since this series only contains small numbers, maybe I can/should use smaller integers.\n",
    "\n",
    "How much memory would it take if I use 8-bit integers?\n",
    "\n",
    "5 elements * 1 byte = 5 bytes"
   ]
  },
  {
   "cell_type": "code",
   "execution_count": 41,
   "id": "ee69bb35",
   "metadata": {},
   "outputs": [
    {
     "data": {
      "text/plain": [
       "0    10\n",
       "1    20\n",
       "2    30\n",
       "3    40\n",
       "4    50\n",
       "dtype: int8"
      ]
     },
     "execution_count": 41,
     "metadata": {},
     "output_type": "execute_result"
    }
   ],
   "source": [
    "s = Series([10, 20, 30, 40, 50], dtype=np.int8)\n",
    "s"
   ]
  },
  {
   "cell_type": "code",
   "execution_count": 42,
   "id": "2e8e8960",
   "metadata": {},
   "outputs": [
    {
     "data": {
      "text/plain": [
       "137"
      ]
     },
     "execution_count": 42,
     "metadata": {},
     "output_type": "execute_result"
    }
   ],
   "source": [
    "s.memory_usage()"
   ]
  },
  {
   "cell_type": "code",
   "execution_count": 43,
   "id": "098a4a0d",
   "metadata": {},
   "outputs": [
    {
     "data": {
      "text/plain": [
       "35"
      ]
     },
     "execution_count": 43,
     "metadata": {},
     "output_type": "execute_result"
    }
   ],
   "source": [
    "172 - 137"
   ]
  },
  {
   "cell_type": "markdown",
   "id": "3addf5f6",
   "metadata": {},
   "source": [
    "# What's wrong with using `int8`?\n",
    "\n",
    "Nothing, if you want to stay with small numbers...but if they get big, bad news!"
   ]
  },
  {
   "cell_type": "code",
   "execution_count": 44,
   "id": "da1bc987",
   "metadata": {},
   "outputs": [
    {
     "data": {
      "text/plain": [
       "0    10\n",
       "1    20\n",
       "2    30\n",
       "3    40\n",
       "4    50\n",
       "dtype: int8"
      ]
     },
     "execution_count": 44,
     "metadata": {},
     "output_type": "execute_result"
    }
   ],
   "source": [
    "s"
   ]
  },
  {
   "cell_type": "code",
   "execution_count": 45,
   "id": "ba2f1ce3",
   "metadata": {},
   "outputs": [
    {
     "data": {
      "text/plain": [
       "0    100\n",
       "1    -56\n",
       "2     44\n",
       "3   -112\n",
       "4    -12\n",
       "dtype: int8"
      ]
     },
     "execution_count": 45,
     "metadata": {},
     "output_type": "execute_result"
    }
   ],
   "source": [
    "s * 10"
   ]
  },
  {
   "cell_type": "code",
   "execution_count": 46,
   "id": "9a174e98",
   "metadata": {},
   "outputs": [],
   "source": [
    "# 8 bits gives us 256 (2 ** 8)\n",
    "# since our integers are signed, that gives us from -128 to 127\n",
    "# anything outside of that range will be \"wrapped around\"\n",
    "\n",
    "# if your dtype is too small, you will LOSE DATA and Pandas won't warn you!"
   ]
  },
  {
   "cell_type": "code",
   "execution_count": 47,
   "id": "9623452f",
   "metadata": {},
   "outputs": [
    {
     "data": {
      "text/plain": [
       "0    10\n",
       "1    20\n",
       "2    30\n",
       "3    40\n",
       "4    50\n",
       "dtype: int8"
      ]
     },
     "execution_count": 47,
     "metadata": {},
     "output_type": "execute_result"
    }
   ],
   "source": [
    "s"
   ]
  },
  {
   "cell_type": "code",
   "execution_count": 48,
   "id": "c0dea199",
   "metadata": {},
   "outputs": [],
   "source": [
    "s.loc[2] = 99999"
   ]
  },
  {
   "cell_type": "code",
   "execution_count": 49,
   "id": "69da9e51",
   "metadata": {},
   "outputs": [
    {
     "data": {
      "text/plain": [
       "0       10\n",
       "1       20\n",
       "2    99999\n",
       "3       40\n",
       "4       50\n",
       "dtype: int32"
      ]
     },
     "execution_count": 49,
     "metadata": {},
     "output_type": "execute_result"
    }
   ],
   "source": [
    "s"
   ]
  },
  {
   "cell_type": "markdown",
   "id": "cd1067c0",
   "metadata": {},
   "source": [
    "# Why not always use `np.int64`? \n",
    "\n",
    "Answer: you'll use tons of memory unnecessarily.\n",
    "\n",
    "Consider some data with 10m data points.\n",
    "\n",
    "10m * 8 bytes = 80 MB\n",
    "10m * 1 byte =  10 MB\n",
    "\n",
    "Consider some data with 10b data points.\n",
    "\n",
    "10b * 8 bytes = 80 GB\n",
    "10b * 1 bytes = 10 GB\n",
    "\n",
    "Rule of thumb: Use the smallest dtype you can, without losing data -- with your current data, and with the manipulations/calculations you'll want to do later on."
   ]
  },
  {
   "cell_type": "markdown",
   "id": "c5edd218",
   "metadata": {},
   "source": [
    "# Exercise: Strings to numbers\n",
    "\n",
    "1. Define a series whose values are digits, but in strings. (That is, the series should contain the strings `'10'`, `'20'`, `'30'`, etc. You can use whatever numbers you want.  The `dtype` for this series should be `object`, which generally means strings.\n",
    "2. Calculate the mean of these numbers."
   ]
  },
  {
   "cell_type": "code",
   "execution_count": 50,
   "id": "4ac90dfa",
   "metadata": {},
   "outputs": [
    {
     "data": {
      "text/plain": [
       "0    10\n",
       "1    20\n",
       "2    30\n",
       "3    40\n",
       "4    50\n",
       "dtype: object"
      ]
     },
     "execution_count": 50,
     "metadata": {},
     "output_type": "execute_result"
    }
   ],
   "source": [
    "s = Series(['10', '20', '30', '40', '50'])\n",
    "s"
   ]
  },
  {
   "cell_type": "code",
   "execution_count": 51,
   "id": "6c215500",
   "metadata": {},
   "outputs": [
    {
     "data": {
      "text/plain": [
       "204060810.0"
      ]
     },
     "execution_count": 51,
     "metadata": {},
     "output_type": "execute_result"
    }
   ],
   "source": [
    "# what happens if I call the .mean() method on this?\n",
    "\n",
    "s.mean()"
   ]
  },
  {
   "cell_type": "code",
   "execution_count": 52,
   "id": "fc1f3d8e",
   "metadata": {},
   "outputs": [
    {
     "data": {
      "text/plain": [
       "'1020304050'"
      ]
     },
     "execution_count": 52,
     "metadata": {},
     "output_type": "execute_result"
    }
   ],
   "source": [
    "s.sum()"
   ]
  },
  {
   "cell_type": "code",
   "execution_count": 55,
   "id": "182055c8",
   "metadata": {},
   "outputs": [
    {
     "data": {
      "text/plain": [
       "30.0"
      ]
     },
     "execution_count": 55,
     "metadata": {},
     "output_type": "execute_result"
    }
   ],
   "source": [
    "# do it on the fly, without changing s's dtype\n",
    "\n",
    "s.astype(np.int8).mean()"
   ]
  },
  {
   "cell_type": "code",
   "execution_count": 56,
   "id": "2249662e",
   "metadata": {},
   "outputs": [
    {
     "data": {
      "text/plain": [
       "30.0"
      ]
     },
     "execution_count": 56,
     "metadata": {},
     "output_type": "execute_result"
    }
   ],
   "source": [
    "s = s.astype(np.int8)    # replace the original series with an int series\n",
    "\n",
    "s.mean()                 # calculate the mean on that"
   ]
  },
  {
   "cell_type": "code",
   "execution_count": 57,
   "id": "d075d283",
   "metadata": {},
   "outputs": [
    {
     "data": {
      "text/plain": [
       "0    10\n",
       "1    20\n",
       "2    30\n",
       "3    40\n",
       "4    50\n",
       "dtype: int8"
      ]
     },
     "execution_count": 57,
     "metadata": {},
     "output_type": "execute_result"
    }
   ],
   "source": [
    "s"
   ]
  },
  {
   "cell_type": "markdown",
   "id": "7472af60",
   "metadata": {},
   "source": [
    "# Special `dtype` -- `NaN` (\"not a number\")\n",
    "\n",
    "Very often, when we're working with data, there will be *missing* data. It might be missing because our sensors failed. Or a computer wasn't connected to the network. Or someone didn't answer a survey question. \n",
    "\n",
    "Missing data is a fact of life.\n",
    "\n",
    "The way that we represent missing data in Pandas is with `NaN` (sometimes written as `nan`), meaning \"not a number.\" This is actually a floating-point value! It's used to represent missing data.  The `pd.NA` value is also for missing data, and you will see it in some cases, but it's still new and relatively unused."
   ]
  },
  {
   "cell_type": "code",
   "execution_count": 59,
   "id": "3e676eda",
   "metadata": {},
   "outputs": [],
   "source": [
    "# what happens if we have NaN?\n",
    "\n",
    "from numpy import nan\n",
    "\n",
    "s = Series([10, 20, np.nan, 30, 40])"
   ]
  },
  {
   "cell_type": "code",
   "execution_count": 61,
   "id": "7f980f0f",
   "metadata": {},
   "outputs": [
    {
     "data": {
      "text/plain": [
       "0    10.0\n",
       "1    20.0\n",
       "2     NaN\n",
       "3    30.0\n",
       "4    40.0\n",
       "dtype: float64"
      ]
     },
     "execution_count": 61,
     "metadata": {},
     "output_type": "execute_result"
    }
   ],
   "source": [
    "s  # the dtype is float64, because NaN is a float, and that forces all of them to be floats"
   ]
  },
  {
   "cell_type": "code",
   "execution_count": 62,
   "id": "7c10a72d",
   "metadata": {},
   "outputs": [
    {
     "data": {
      "text/plain": [
       "25.0"
      ]
     },
     "execution_count": 62,
     "metadata": {},
     "output_type": "execute_result"
    }
   ],
   "source": [
    "s.mean()   # the NaN value will be ignored!"
   ]
  },
  {
   "cell_type": "code",
   "execution_count": 63,
   "id": "c3d7f392",
   "metadata": {},
   "outputs": [
    {
     "data": {
      "text/plain": [
       "4"
      ]
     },
     "execution_count": 63,
     "metadata": {},
     "output_type": "execute_result"
    }
   ],
   "source": [
    "s.count()   # counts non-NaN values"
   ]
  },
  {
   "cell_type": "code",
   "execution_count": 64,
   "id": "5e9595f8",
   "metadata": {},
   "outputs": [
    {
     "data": {
      "text/plain": [
       "0     NaN\n",
       "1    20.0\n",
       "2     NaN\n",
       "3    30.0\n",
       "4    40.0\n",
       "dtype: float64"
      ]
     },
     "execution_count": 64,
     "metadata": {},
     "output_type": "execute_result"
    }
   ],
   "source": [
    "s.loc[0] = np.nan\n",
    "s"
   ]
  },
  {
   "cell_type": "code",
   "execution_count": 66,
   "id": "988ade57",
   "metadata": {},
   "outputs": [
    {
     "data": {
      "text/plain": [
       "nan"
      ]
     },
     "execution_count": 66,
     "metadata": {},
     "output_type": "execute_result"
    }
   ],
   "source": [
    "np.NaN"
   ]
  },
  {
   "cell_type": "code",
   "execution_count": 68,
   "id": "6d84cf3b",
   "metadata": {},
   "outputs": [],
   "source": [
    "from numpy import NaN"
   ]
  },
  {
   "cell_type": "code",
   "execution_count": 69,
   "id": "2c45883f",
   "metadata": {},
   "outputs": [
    {
     "data": {
      "text/plain": [
       "0     NaN\n",
       "1    20.0\n",
       "2     NaN\n",
       "3    30.0\n",
       "4    40.0\n",
       "dtype: float64"
      ]
     },
     "execution_count": 69,
     "metadata": {},
     "output_type": "execute_result"
    }
   ],
   "source": [
    "s"
   ]
  },
  {
   "cell_type": "code",
   "execution_count": 70,
   "id": "7bc9fdde",
   "metadata": {},
   "outputs": [
    {
     "data": {
      "text/plain": [
       "1    20.0\n",
       "3    30.0\n",
       "4    40.0\n",
       "dtype: float64"
      ]
     },
     "execution_count": 70,
     "metadata": {},
     "output_type": "execute_result"
    }
   ],
   "source": [
    "# how can I remove the NaN values?\n",
    "\n",
    "# option 1: actually remove them, getting a new series back without the NaNs\n",
    "s.dropna()  "
   ]
  },
  {
   "cell_type": "code",
   "execution_count": 71,
   "id": "ee791302",
   "metadata": {},
   "outputs": [
    {
     "data": {
      "text/plain": [
       "0     NaN\n",
       "1    20.0\n",
       "2     NaN\n",
       "3    30.0\n",
       "4    40.0\n",
       "dtype: float64"
      ]
     },
     "execution_count": 71,
     "metadata": {},
     "output_type": "execute_result"
    }
   ],
   "source": [
    "# we haven't changed s! To do that, we need to assign the result of s.dropna() to s\n",
    "s"
   ]
  },
  {
   "cell_type": "code",
   "execution_count": 72,
   "id": "791ab190",
   "metadata": {},
   "outputs": [
    {
     "data": {
      "text/plain": [
       "0    999.0\n",
       "1     20.0\n",
       "2    999.0\n",
       "3     30.0\n",
       "4     40.0\n",
       "dtype: float64"
      ]
     },
     "execution_count": 72,
     "metadata": {},
     "output_type": "execute_result"
    }
   ],
   "source": [
    "# option 2: replace the NaN values with another value\n",
    "# the fillna method does that for us\n",
    "\n",
    "s.fillna(999)"
   ]
  },
  {
   "cell_type": "code",
   "execution_count": 73,
   "id": "a3a8f640",
   "metadata": {},
   "outputs": [
    {
     "data": {
      "text/plain": [
       "0     NaN\n",
       "1    20.0\n",
       "2     NaN\n",
       "3    30.0\n",
       "4    40.0\n",
       "dtype: float64"
      ]
     },
     "execution_count": 73,
     "metadata": {},
     "output_type": "execute_result"
    }
   ],
   "source": [
    "# this didn't change s!\n",
    "s"
   ]
  },
  {
   "cell_type": "code",
   "execution_count": 74,
   "id": "257e3902",
   "metadata": {},
   "outputs": [
    {
     "data": {
      "text/plain": [
       "0    30.0\n",
       "1    20.0\n",
       "2    30.0\n",
       "3    30.0\n",
       "4    40.0\n",
       "dtype: float64"
      ]
     },
     "execution_count": 74,
     "metadata": {},
     "output_type": "execute_result"
    }
   ],
   "source": [
    "# a common value to use with fillna is the mean of the series!\n",
    "# in other words: We'll replace NaN with the mean, thus keeping the mean identical \n",
    "\n",
    "s.fillna(s.mean())"
   ]
  },
  {
   "cell_type": "code",
   "execution_count": 75,
   "id": "05076d1b",
   "metadata": {},
   "outputs": [
    {
     "data": {
      "text/plain": [
       "30.0"
      ]
     },
     "execution_count": 75,
     "metadata": {},
     "output_type": "execute_result"
    }
   ],
   "source": [
    "s.mean()"
   ]
  },
  {
   "cell_type": "code",
   "execution_count": 76,
   "id": "2ceb5334",
   "metadata": {},
   "outputs": [],
   "source": [
    "# let's replace NaN with s's mean, then assign that back to s\n",
    "\n",
    "s = s.fillna(s.mean())"
   ]
  },
  {
   "cell_type": "code",
   "execution_count": 77,
   "id": "c037696c",
   "metadata": {
    "scrolled": true
   },
   "outputs": [
    {
     "data": {
      "text/plain": [
       "0    30.0\n",
       "1    20.0\n",
       "2    30.0\n",
       "3    30.0\n",
       "4    40.0\n",
       "dtype: float64"
      ]
     },
     "execution_count": 77,
     "metadata": {},
     "output_type": "execute_result"
    }
   ],
   "source": [
    "s"
   ]
  },
  {
   "cell_type": "code",
   "execution_count": 78,
   "id": "77706b18",
   "metadata": {
    "scrolled": true
   },
   "outputs": [
    {
     "data": {
      "text/plain": [
       "0    10.0\n",
       "1    20.0\n",
       "2     NaN\n",
       "3    30.0\n",
       "4    40.0\n",
       "dtype: float64"
      ]
     },
     "execution_count": 78,
     "metadata": {},
     "output_type": "execute_result"
    }
   ],
   "source": [
    "s = Series([10, 20, np.nan, 30, 40])\n",
    "s"
   ]
  },
  {
   "cell_type": "code",
   "execution_count": 79,
   "id": "94fcf6e8",
   "metadata": {},
   "outputs": [
    {
     "data": {
      "text/plain": [
       "0    10.0\n",
       "1    20.0\n",
       "2    25.0\n",
       "3    30.0\n",
       "4    40.0\n",
       "dtype: float64"
      ]
     },
     "execution_count": 79,
     "metadata": {},
     "output_type": "execute_result"
    }
   ],
   "source": [
    "s.interpolate()"
   ]
  },
  {
   "cell_type": "markdown",
   "id": "fd2409ea",
   "metadata": {},
   "source": [
    "# Exercise: Missing temperatures\n",
    "\n",
    "1. Define a series of 10 integers, with the high temperatures expected in your city in the next 10 days.  Make the index the names of the days.\n",
    "2. Calculate desciptive statistics for these values.\n",
    "3. Set three of the days' temperatures to be `NaN`.\n",
    "4. Calculate descriptive statistics again; have they changed a lot?\n",
    "5. Replace the `NaN` values with the mean of the remaining values. Have they changed much from the original values?"
   ]
  },
  {
   "cell_type": "code",
   "execution_count": 80,
   "id": "ee3e46e9",
   "metadata": {},
   "outputs": [],
   "source": [
    "s = Series([15, 22, 23, 18, 14, 17, 19, 18, 19, 18],\n",
    "          index='Wed Thu Fri Sat Sun Mon Tue Wed Thu Fri'.split())"
   ]
  },
  {
   "cell_type": "code",
   "execution_count": 81,
   "id": "dba41636",
   "metadata": {},
   "outputs": [
    {
     "data": {
      "text/plain": [
       "Wed    15\n",
       "Thu    22\n",
       "Fri    23\n",
       "Sat    18\n",
       "Sun    14\n",
       "Mon    17\n",
       "Tue    19\n",
       "Wed    18\n",
       "Thu    19\n",
       "Fri    18\n",
       "dtype: int64"
      ]
     },
     "execution_count": 81,
     "metadata": {},
     "output_type": "execute_result"
    }
   ],
   "source": [
    "s"
   ]
  },
  {
   "cell_type": "code",
   "execution_count": 82,
   "id": "221dd52a",
   "metadata": {},
   "outputs": [
    {
     "data": {
      "text/plain": [
       "count    10.000000\n",
       "mean     18.300000\n",
       "std       2.750757\n",
       "min      14.000000\n",
       "25%      17.250000\n",
       "50%      18.000000\n",
       "75%      19.000000\n",
       "max      23.000000\n",
       "dtype: float64"
      ]
     },
     "execution_count": 82,
     "metadata": {},
     "output_type": "execute_result"
    }
   ],
   "source": [
    "s.describe()"
   ]
  },
  {
   "cell_type": "code",
   "execution_count": 83,
   "id": "df22841f",
   "metadata": {},
   "outputs": [],
   "source": [
    "s.loc['Sat'] = NaN\n",
    "s.loc['Sun'] = NaN\n",
    "s.iloc[-1] = NaN     # use iloc to avoid ambiguity and setting two elements\n",
    "\n"
   ]
  },
  {
   "cell_type": "code",
   "execution_count": 84,
   "id": "18c6ba18",
   "metadata": {},
   "outputs": [
    {
     "data": {
      "text/plain": [
       "Wed    15.0\n",
       "Thu    22.0\n",
       "Fri    23.0\n",
       "Sat     NaN\n",
       "Sun     NaN\n",
       "Mon    17.0\n",
       "Tue    19.0\n",
       "Wed    18.0\n",
       "Thu    19.0\n",
       "Fri     NaN\n",
       "dtype: float64"
      ]
     },
     "execution_count": 84,
     "metadata": {},
     "output_type": "execute_result"
    }
   ],
   "source": [
    "s"
   ]
  },
  {
   "cell_type": "code",
   "execution_count": 85,
   "id": "8dc522e3",
   "metadata": {},
   "outputs": [
    {
     "data": {
      "text/plain": [
       "count     7.000000\n",
       "mean     19.000000\n",
       "std       2.768875\n",
       "min      15.000000\n",
       "25%      17.500000\n",
       "50%      19.000000\n",
       "75%      20.500000\n",
       "max      23.000000\n",
       "dtype: float64"
      ]
     },
     "execution_count": 85,
     "metadata": {},
     "output_type": "execute_result"
    }
   ],
   "source": [
    "s.describe()"
   ]
  },
  {
   "cell_type": "code",
   "execution_count": 86,
   "id": "6003338f",
   "metadata": {},
   "outputs": [
    {
     "data": {
      "text/plain": [
       "Wed    15.0\n",
       "Thu    22.0\n",
       "Fri    23.0\n",
       "Sat    19.0\n",
       "Sun    19.0\n",
       "Mon    17.0\n",
       "Tue    19.0\n",
       "Wed    18.0\n",
       "Thu    19.0\n",
       "Fri    19.0\n",
       "dtype: float64"
      ]
     },
     "execution_count": 86,
     "metadata": {},
     "output_type": "execute_result"
    }
   ],
   "source": [
    "# now let's replace our NaN values with the mean\n",
    "\n",
    "s.fillna(s.mean())"
   ]
  },
  {
   "cell_type": "code",
   "execution_count": 87,
   "id": "81090876",
   "metadata": {},
   "outputs": [
    {
     "data": {
      "text/plain": [
       "count    10.000000\n",
       "mean     19.000000\n",
       "std       2.260777\n",
       "min      15.000000\n",
       "25%      18.250000\n",
       "50%      19.000000\n",
       "75%      19.000000\n",
       "max      23.000000\n",
       "dtype: float64"
      ]
     },
     "execution_count": 87,
     "metadata": {},
     "output_type": "execute_result"
    }
   ],
   "source": [
    "# without assigning back to s, I can still get descriptive statistics for s\n",
    "s.fillna(s.mean()).describe()"
   ]
  },
  {
   "cell_type": "code",
   "execution_count": 88,
   "id": "bb01d217",
   "metadata": {},
   "outputs": [
    {
     "data": {
      "text/plain": [
       "count    10.000000\n",
       "mean     19.200000\n",
       "std       2.347576\n",
       "min      15.000000\n",
       "25%      18.250000\n",
       "50%      19.000000\n",
       "75%      20.500000\n",
       "max      23.000000\n",
       "dtype: float64"
      ]
     },
     "execution_count": 88,
     "metadata": {},
     "output_type": "execute_result"
    }
   ],
   "source": [
    "s.interpolate().describe()"
   ]
  },
  {
   "cell_type": "code",
   "execution_count": 89,
   "id": "ae0d5e11",
   "metadata": {},
   "outputs": [
    {
     "data": {
      "text/plain": [
       "Wed    15.0\n",
       "Thu    22.0\n",
       "Fri    23.0\n",
       "Sat    21.0\n",
       "Sun    19.0\n",
       "Mon    17.0\n",
       "Tue    19.0\n",
       "Wed    18.0\n",
       "Thu    19.0\n",
       "Fri    19.0\n",
       "dtype: float64"
      ]
     },
     "execution_count": 89,
     "metadata": {},
     "output_type": "execute_result"
    }
   ],
   "source": [
    "s.interpolate()"
   ]
  },
  {
   "cell_type": "markdown",
   "id": "84b3859e",
   "metadata": {},
   "source": [
    "# Next up\n",
    "\n",
    "1. Data frames\n",
    "    - Creating\n",
    "    - Retrieving from\n",
    "2. Adding/removing data\n",
    "3. Methods to use on our data frame"
   ]
  },
  {
   "cell_type": "markdown",
   "id": "2f130c69",
   "metadata": {},
   "source": [
    "# The `interpolate` method\n",
    "\n",
    "The simple way to get rid of `NaN` data is to remove all of those values.\n",
    "\n",
    "A more sophisticated way is to replace `NaN` with reasonable guesses as to what the values could/should be.\n",
    "\n",
    "One possibility is to replace all `NaN` values with the same value, namely the mean of all of the values in the series. That's what happens when you say `s.fillna(s.mean())`.  We calculate the mean once, and use it to replace all `NaN`s we found.\n",
    "\n",
    "Another possibility, though, is to perform a more localized calculation of the mean. If index 4 contains 10, index 5 contains `NaN`, and index 6 contains 30, we can reasonably guess that index 5 should contain 20, the mean of 10 and 30.  That's what the `interpolate` method does -- it replaces each `NaN` with the mean of the two elements around it.\n",
    "\n",
    "If there are two `NaN` values in a row, then it's smart enough to figure out the distance between the two real values, and then \"step up\" or \"step down\" on each replacement."
   ]
  },
  {
   "cell_type": "markdown",
   "id": "8afd6b6a",
   "metadata": {},
   "source": [
    "# Data frames\n",
    "\n",
    "Each data frame is like an Excel spreadsheet, with rows and columns. This is what everyone wants to use Pandas for.\n",
    "\n",
    "You can think of a data frame as as collection of series objects, with each series being a column in the data frame.\n",
    "\n",
    "Thinking of it this way is very helpful when moving from series to data frames.\n",
    "\n",
    "The easiest way to create a data frame is to pass Pandas a list of lists or a 2-dimensional NumPy array."
   ]
  },
  {
   "cell_type": "code",
   "execution_count": 90,
   "id": "2dba755b",
   "metadata": {},
   "outputs": [
    {
     "data": {
      "text/html": [
       "<div>\n",
       "<style scoped>\n",
       "    .dataframe tbody tr th:only-of-type {\n",
       "        vertical-align: middle;\n",
       "    }\n",
       "\n",
       "    .dataframe tbody tr th {\n",
       "        vertical-align: top;\n",
       "    }\n",
       "\n",
       "    .dataframe thead th {\n",
       "        text-align: right;\n",
       "    }\n",
       "</style>\n",
       "<table border=\"1\" class=\"dataframe\">\n",
       "  <thead>\n",
       "    <tr style=\"text-align: right;\">\n",
       "      <th></th>\n",
       "      <th>0</th>\n",
       "      <th>1</th>\n",
       "      <th>2</th>\n",
       "      <th>3</th>\n",
       "    </tr>\n",
       "  </thead>\n",
       "  <tbody>\n",
       "    <tr>\n",
       "      <th>0</th>\n",
       "      <td>10</td>\n",
       "      <td>20</td>\n",
       "      <td>30</td>\n",
       "      <td>40</td>\n",
       "    </tr>\n",
       "    <tr>\n",
       "      <th>1</th>\n",
       "      <td>50</td>\n",
       "      <td>60</td>\n",
       "      <td>70</td>\n",
       "      <td>80</td>\n",
       "    </tr>\n",
       "    <tr>\n",
       "      <th>2</th>\n",
       "      <td>90</td>\n",
       "      <td>100</td>\n",
       "      <td>110</td>\n",
       "      <td>120</td>\n",
       "    </tr>\n",
       "  </tbody>\n",
       "</table>\n",
       "</div>"
      ],
      "text/plain": [
       "    0    1    2    3\n",
       "0  10   20   30   40\n",
       "1  50   60   70   80\n",
       "2  90  100  110  120"
      ]
     },
     "execution_count": 90,
     "metadata": {},
     "output_type": "execute_result"
    }
   ],
   "source": [
    "from pandas import Series, DataFrame\n",
    "\n",
    "# if we pass a list of lists, each inner list is one *row*\n",
    "# and the length of each inner list must be identical\n",
    "\n",
    "df = DataFrame([[10, 20, 30, 40],\n",
    "                [50, 60, 70, 80],\n",
    "                [90, 100, 110, 120]])\n",
    "\n",
    "df"
   ]
  },
  {
   "cell_type": "code",
   "execution_count": null,
   "id": "c2e7b6ed",
   "metadata": {},
   "outputs": [],
   "source": [
    "# how can I retrieve a row?"
   ]
  }
 ],
 "metadata": {
  "kernelspec": {
   "display_name": "Python 3 (ipykernel)",
   "language": "python",
   "name": "python3"
  },
  "language_info": {
   "codemirror_mode": {
    "name": "ipython",
    "version": 3
   },
   "file_extension": ".py",
   "mimetype": "text/x-python",
   "name": "python",
   "nbconvert_exporter": "python",
   "pygments_lexer": "ipython3",
   "version": "3.11.2"
  }
 },
 "nbformat": 4,
 "nbformat_minor": 5
}
