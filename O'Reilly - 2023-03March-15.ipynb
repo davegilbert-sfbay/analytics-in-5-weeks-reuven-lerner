{
 "cells": [
  {
   "cell_type": "markdown",
   "id": "319f029d",
   "metadata": {},
   "source": [
    "# Agenda: Day 2\n",
    "\n",
    "1. Recap and Q&A\n",
    "2. "
   ]
  },
  {
   "cell_type": "code",
   "execution_count": null,
   "id": "08f2f2ad",
   "metadata": {},
   "outputs": [],
   "source": []
  }
 ],
 "metadata": {
  "kernelspec": {
   "display_name": "Python 3 (ipykernel)",
   "language": "python",
   "name": "python3"
  },
  "language_info": {
   "codemirror_mode": {
    "name": "ipython",
    "version": 3
   },
   "file_extension": ".py",
   "mimetype": "text/x-python",
   "name": "python",
   "nbconvert_exporter": "python",
   "pygments_lexer": "ipython3",
   "version": "3.11.2"
  }
 },
 "nbformat": 4,
 "nbformat_minor": 5
}
