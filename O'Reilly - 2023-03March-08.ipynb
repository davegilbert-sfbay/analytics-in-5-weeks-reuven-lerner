{
 "cells": [
  {
   "cell_type": "markdown",
   "metadata": {},
   "source": [
    "# Agenda\n",
    "\n",
    "1. Getting started with data analysis\n",
    "    - Jupyter (as a tool)\n",
    "    - What is data analysis?\n",
    "    - Pandas -- what is it?\n",
    "    - Pandas series\n",
    "    - Descriptive statistics\n",
    "    - Aggregate methods\n",
    "    - Setting and retrieving values\n",
    "    - Broadcasting\n",
    "    - Mask arrays\n",
    "2. Data frames (for 2D data)\n",
    "    - Indexes vs. columns\n",
    "    - Retreiving\n",
    "    - Setting\n",
    "    - Querying with mask arrays\n",
    "    - Reading CSV data from external files\n",
    "3. Real-world data\n",
    "    - Sorting\n",
    "    - Grouping\n",
    "    - Cleaning\n",
    "    - Pivot table\n",
    "4. Text and time\n",
    "    - Working with text data\n",
    "    - Textual statistics\n",
    "    - Dates and times\n",
    "    - Time deltas\n",
    "    - Time series\n",
    "    - Resampling\n",
    "5. Visualization\n",
    "    - Line plots\n",
    "    - Bar plots\n",
    "    - Pie plots\n",
    "    - Scatter lots\n"
   ]
  },
  {
   "cell_type": "markdown",
   "metadata": {},
   "source": [
    "# Data analysis -- what is data?\n",
    "\n",
    "1. Collecting data\n",
    "2. Understanding the data\n",
    "3. Making decisions based on that data"
   ]
  },
  {
   "cell_type": "markdown",
   "metadata": {},
   "source": [
    "# Where does data come from?\n",
    "\n",
    "- Phones\n",
    "- Vehicles\n",
    "- Temperature sensors"
   ]
  },
  {
   "cell_type": "markdown",
   "metadata": {},
   "source": [
    "# Data science -- what is it?\n",
    "\n",
    "1. Data analytics -- take data from the past, and understand it\n",
    "2. Data engineering -- the logistics of working with data, even when it's huge or hard to work with it\n",
    "3. Machine learning -- take the data from the past, and predict the future with it\n",
    "\n",
    "Data science is these three things together, coupled with a scientific approach -- we ask a question, and we try to get an answer that we believe is justifiable with the data."
   ]
  },
  {
   "cell_type": "markdown",
   "metadata": {},
   "source": [
    "# Why are we using Python?\n",
    "\n",
    "Python is known as a language that uses lots of memory and is slow to execute.\n",
    "\n",
    "Data analytics needs to work with lots of data, and we want fast results.\n",
    "\n",
    "The answer: NumPy"
   ]
  }
 ],
 "metadata": {
  "kernelspec": {
   "display_name": "Python 3 (ipykernel)",
   "language": "python",
   "name": "python3"
  },
  "language_info": {
   "codemirror_mode": {
    "name": "ipython",
    "version": 3
   },
   "file_extension": ".py",
   "mimetype": "text/x-python",
   "name": "python",
   "nbconvert_exporter": "python",
   "pygments_lexer": "ipython3",
   "version": "3.11.2"
  }
 },
 "nbformat": 4,
 "nbformat_minor": 4
}
