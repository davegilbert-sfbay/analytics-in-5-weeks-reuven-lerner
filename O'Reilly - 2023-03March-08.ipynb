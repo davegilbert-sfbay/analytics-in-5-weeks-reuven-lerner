{
 "cells": [
  {
   "cell_type": "markdown",
   "metadata": {},
   "source": [
    "# Agenda\n",
    "\n",
    "1. Getting started with data analysis\n",
    "    - Jupyter (as a tool)\n",
    "    - What is data analysis?\n",
    "    - Pandas -- what is it?\n",
    "    - Pandas series\n",
    "    - Descriptive statistics\n",
    "    - Aggregate methods\n",
    "    - Setting and retrieving values\n",
    "    - Broadcasting\n",
    "    - Mask arrays\n",
    "2. Data frames (for 2D data)\n",
    "    - Indexes vs. columns\n",
    "    - Retreiving\n",
    "    - Setting\n",
    "    - Querying with mask arrays\n",
    "    - Reading CSV data from external files\n",
    "3. Real-world data\n",
    "    - Sorting\n",
    "    - Gro"
   ]
  },
  {
   "cell_type": "code",
   "execution_count": null,
   "metadata": {},
   "outputs": [],
   "source": []
  }
 ],
 "metadata": {
  "kernelspec": {
   "display_name": "Python 3 (ipykernel)",
   "language": "python",
   "name": "python3"
  },
  "language_info": {
   "codemirror_mode": {
    "name": "ipython",
    "version": 3
   },
   "file_extension": ".py",
   "mimetype": "text/x-python",
   "name": "python",
   "nbconvert_exporter": "python",
   "pygments_lexer": "ipython3",
   "version": "3.11.2"
  }
 },
 "nbformat": 4,
 "nbformat_minor": 4
}
