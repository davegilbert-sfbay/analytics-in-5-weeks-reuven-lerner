{
 "cells": [
  {
   "cell_type": "markdown",
   "metadata": {},
   "source": [
    "# Agenda\n",
    "\n",
    "1. Getting started with data analysis\n",
    "    - Jupyter (as a tool)\n",
    "    - What is data analysis?\n",
    "    - Pandas -- what is it?\n",
    "    - Pandas series\n",
    "    - Descriptive statistics\n",
    "    - Aggregate methods\n",
    "    - Setting and retrieving values\n",
    "    - Broadcasting\n",
    "    - Mask arrays\n",
    "2. Data frames (for 2D data)\n",
    "    - Indexes vs. columns\n",
    "    - Retreiving\n",
    "    - Setting\n",
    "    - Querying with mask arrays\n",
    "    - Reading CSV data from external files\n",
    "3. Real-world data\n",
    "    - Sorting\n",
    "    - Grouping\n",
    "    - Cleaning\n",
    "    - Pivot table\n",
    "4. Text and time\n",
    "    - Working with text data\n",
    "    - Textual statistics\n",
    "    - Dates and times\n",
    "    - Time deltas\n",
    "    - Time series\n",
    "    - Resampling\n",
    "5. Visualization\n",
    "    - Line plots\n",
    "    - Bar plots\n",
    "    - Pie plots\n",
    "    - Scatter lots\n"
   ]
  },
  {
   "cell_type": "markdown",
   "metadata": {},
   "source": [
    "# Data analysis -- what is data?\n",
    "\n",
    "1. Collecting data\n",
    "2. Understanding the data\n",
    "3. Making decisions based on that data"
   ]
  },
  {
   "cell_type": "markdown",
   "metadata": {},
   "source": [
    "# Where does data come from?\n",
    "\n",
    "- Phones\n",
    "- Vehicles\n",
    "- Temperature sensors"
   ]
  },
  {
   "cell_type": "markdown",
   "metadata": {},
   "source": [
    "# Data science -- what is it?\n",
    "\n",
    "1. Data analytics -- take data from the past, and understand it\n",
    "2. Data engineering -- the logistics of working with data, even when it's huge or hard to work with it\n",
    "3. Machine learning -- take the data from the past, and predict the future with it\n",
    "\n",
    "Data science is these three things together, coupled with a scientific approach -- we ask a question, and we try to get an answer that we believe is justifiable with the data."
   ]
  },
  {
   "cell_type": "markdown",
   "metadata": {},
   "source": [
    "# Why are we using Python?\n",
    "\n",
    "Python is known as a language that uses lots of memory and is slow to execute.\n",
    "\n",
    "Data analytics needs to work with lots of data, and we want fast results.\n",
    "\n",
    "The answer: NumPy, which provides C-style data and speed, but Python-style access.\n",
    "\n",
    "NumPy is a little low level for many people. That's where Pandas comes in.  Pandas is a high-level data analysis system that uses NumPy behind the scenes (for speed and efficiency) but gives us very easy analysis in Python.\n",
    "\n",
    "Pandas is sort of like Excel, inside of Python."
   ]
  },
  {
   "cell_type": "markdown",
   "metadata": {},
   "source": [
    "# What Python will we *not* be using?\n",
    "\n",
    "- `if`/`else`\n",
    "- `for` or `while` loops\n",
    "- `def` to define new functions\n",
    "\n",
    "# What will we be using?\n",
    "\n",
    "- Basic data structures (ints, floats, strings, and lists) to communicate with Pandas.\n",
    "- Comparison operators (e.g., `==` and `<`)\n",
    "- Variable assignment\n",
    "- Pandas object methods and constructors"
   ]
  },
  {
   "cell_type": "markdown",
   "metadata": {},
   "source": [
    "# Quick Jupyter tutorial\n",
    "\n",
    "Jupyter is the tool I'm using to type this, and which I'll use for the entire course. It lets us run code and write documentation in the browser. Jupyter is super popular among data scientists.\n",
    "\n",
    "Learn more at https://Jupyter.org/.\n",
    "\n",
    "Every rectangle in Jupyter is known as a \"cell.\" To execute a cell, you press shift+Enter.\n",
    "\n",
    "\n",
    "\n",
    "\n",
    "I just pressed Enter a few times, and descended those lines.  But if press shift+Enter..."
   ]
  },
  {
   "cell_type": "code",
   "execution_count": null,
   "metadata": {},
   "outputs": [],
   "source": []
  },
  {
   "cell_type": "markdown",
   "metadata": {},
   "source": [
    "# Jupyter has two modes\n",
    "\n",
    "- Edit mode -- the outline of the cell is green. Enter edit mode by clicking inside of the cell or pressing ENTER. You can then type to enter text.\n",
    "- Command mode -- the outline of the cell is blue. Enter command mode by clicking to the left of the cell or pressing ESC. Anything you type is interpreted as a command to Jupyter.\n",
    "\n",
    "When you're in command mode, here are some commands you can use:\n",
    "- `h` -- help\n",
    "- `c` -- copy the current cell\n",
    "- `x` -- cut the current cell\n",
    "- `v` -- copy the current cell\n",
    "- `m` -- set cell type to Markdown (for documentation)\n",
    "- `y` -- set cell type to Python code (for coding, this is the default)\n",
    "- `a` -- create a new cell above the current one\n",
    "- `b` -- create a new cell below the current one"
   ]
  },
  {
   "cell_type": "code",
   "execution_count": null,
   "metadata": {},
   "outputs": [],
   "source": []
  },
  {
   "cell_type": "code",
   "execution_count": 1,
   "metadata": {},
   "outputs": [
    {
     "name": "stdout",
     "output_type": "stream",
     "text": [
      "Hello!\n"
     ]
    }
   ],
   "source": [
    "print('Hello!')"
   ]
  },
  {
   "cell_type": "code",
   "execution_count": null,
   "metadata": {},
   "outputs": [],
   "source": []
  }
 ],
 "metadata": {
  "kernelspec": {
   "display_name": "Python 3 (ipykernel)",
   "language": "python",
   "name": "python3"
  },
  "language_info": {
   "codemirror_mode": {
    "name": "ipython",
    "version": 3
   },
   "file_extension": ".py",
   "mimetype": "text/x-python",
   "name": "python",
   "nbconvert_exporter": "python",
   "pygments_lexer": "ipython3",
   "version": "3.11.2"
  }
 },
 "nbformat": 4,
 "nbformat_minor": 4
}
